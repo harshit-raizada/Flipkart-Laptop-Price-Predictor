{
 "cells": [
  {
   "cell_type": "code",
   "execution_count": 1,
   "id": "bc784731",
   "metadata": {},
   "outputs": [],
   "source": [
    "# Importing Libraries\n",
    "\n",
    "import pandas as pd\n",
    "import numpy as np\n",
    "import matplotlib.pyplot as plt\n",
    "import seaborn as sns\n",
    "import re"
   ]
  },
  {
   "cell_type": "code",
   "execution_count": 2,
   "id": "23ef1d8c",
   "metadata": {},
   "outputs": [
    {
     "data": {
      "text/html": [
       "<div>\n",
       "<style scoped>\n",
       "    .dataframe tbody tr th:only-of-type {\n",
       "        vertical-align: middle;\n",
       "    }\n",
       "\n",
       "    .dataframe tbody tr th {\n",
       "        vertical-align: top;\n",
       "    }\n",
       "\n",
       "    .dataframe thead th {\n",
       "        text-align: right;\n",
       "    }\n",
       "</style>\n",
       "<table border=\"1\" class=\"dataframe\">\n",
       "  <thead>\n",
       "    <tr style=\"text-align: right;\">\n",
       "      <th></th>\n",
       "      <th>Product</th>\n",
       "      <th>Rating</th>\n",
       "      <th>MRP</th>\n",
       "      <th>Feature</th>\n",
       "    </tr>\n",
       "  </thead>\n",
       "  <tbody>\n",
       "    <tr>\n",
       "      <th>0</th>\n",
       "      <td>Lenovo IdeaPad 3 Core i3 11th Gen - (8 GB/256 ...</td>\n",
       "      <td>4.2</td>\n",
       "      <td>₹36,990</td>\n",
       "      <td>Intel Core i3 Processor (11th Gen)8 GB DDR4 RA...</td>\n",
       "    </tr>\n",
       "    <tr>\n",
       "      <th>1</th>\n",
       "      <td>Lenovo IdeaPad 3 Core i3 11th Gen - (8 GB/512 ...</td>\n",
       "      <td>4.2</td>\n",
       "      <td>₹39,990</td>\n",
       "      <td>Intel Core i3 Processor (11th Gen)8 GB DDR4 RA...</td>\n",
       "    </tr>\n",
       "    <tr>\n",
       "      <th>2</th>\n",
       "      <td>ASUS VivoBook 15 (2022) Core i3 10th Gen - (8 ...</td>\n",
       "      <td>4.3</td>\n",
       "      <td>₹32,990</td>\n",
       "      <td>Intel Core i3 Processor (10th Gen)8 GB DDR4 RA...</td>\n",
       "    </tr>\n",
       "    <tr>\n",
       "      <th>3</th>\n",
       "      <td>HP Pavilion Ryzen 5 Hexa Core AMD R5-5600H - (...</td>\n",
       "      <td>4.4</td>\n",
       "      <td>₹49,990</td>\n",
       "      <td>AMD Ryzen 5 Hexa Core Processor8 GB DDR4 RAM64...</td>\n",
       "    </tr>\n",
       "    <tr>\n",
       "      <th>4</th>\n",
       "      <td>ASUS TUF Gaming F15 Core i5 10th Gen - (8 GB/5...</td>\n",
       "      <td>4.4</td>\n",
       "      <td>₹49,990</td>\n",
       "      <td>Intel Core i5 Processor (10th Gen)8 GB DDR4 RA...</td>\n",
       "    </tr>\n",
       "  </tbody>\n",
       "</table>\n",
       "</div>"
      ],
      "text/plain": [
       "                                             Product  Rating      MRP  \\\n",
       "0  Lenovo IdeaPad 3 Core i3 11th Gen - (8 GB/256 ...     4.2  ₹36,990   \n",
       "1  Lenovo IdeaPad 3 Core i3 11th Gen - (8 GB/512 ...     4.2  ₹39,990   \n",
       "2  ASUS VivoBook 15 (2022) Core i3 10th Gen - (8 ...     4.3  ₹32,990   \n",
       "3  HP Pavilion Ryzen 5 Hexa Core AMD R5-5600H - (...     4.4  ₹49,990   \n",
       "4  ASUS TUF Gaming F15 Core i5 10th Gen - (8 GB/5...     4.4  ₹49,990   \n",
       "\n",
       "                                             Feature  \n",
       "0  Intel Core i3 Processor (11th Gen)8 GB DDR4 RA...  \n",
       "1  Intel Core i3 Processor (11th Gen)8 GB DDR4 RA...  \n",
       "2  Intel Core i3 Processor (10th Gen)8 GB DDR4 RA...  \n",
       "3  AMD Ryzen 5 Hexa Core Processor8 GB DDR4 RAM64...  \n",
       "4  Intel Core i5 Processor (10th Gen)8 GB DDR4 RA...  "
      ]
     },
     "execution_count": 2,
     "metadata": {},
     "output_type": "execute_result"
    }
   ],
   "source": [
    "# Reading Data\n",
    "\n",
    "df = pd.read_csv('laptop_details.csv')\n",
    "df.head()"
   ]
  },
  {
   "cell_type": "code",
   "execution_count": 3,
   "id": "f89e6bcd",
   "metadata": {},
   "outputs": [
    {
     "name": "stdout",
     "output_type": "stream",
     "text": [
      "Processor: Intel i3-1115G4 (Base- 1.70 GHz & Turbo up to 4.10 GHz) 2 CoresRAM & Storage: 8GB DDR4 & 1TB + 256GB SSDGraphics & Keyboard: Integrated & Standard KeyboardDisplay: 15.6\" FHD WVA AG Narrow BorderPorts: 2x USB 3.2 Gen1 ,1x USB 2.0, HDMI 1.4, SD Card reader, Audio jack, 1 M.2 2230/2280 slot for solid-state drive/Intel OptaneIntel Core i3 Processor (11th Gen)8 GB DDR4 RAMWindows 11 Operating System1 TB HDD|256 GB SSD39.62 cm (15.6 inch) Display1 YEAR\n"
     ]
    }
   ],
   "source": [
    "print(df['Feature'][6])"
   ]
  },
  {
   "cell_type": "markdown",
   "id": "d7093706",
   "metadata": {},
   "source": [
    "#### Extracting Various Columns from Feature Column Using Regex"
   ]
  },
  {
   "cell_type": "code",
   "execution_count": 4,
   "id": "6a75a789",
   "metadata": {},
   "outputs": [],
   "source": [
    "# Processor Info\n",
    "\n",
    "regex = r'(?:AMD|Intel|Apple)[\\s\\w]+(?:Core|Ryzen|Celeron|M1|M2|Pentium|Snapdragon|Athlon)[\\s\\w]+Processor'\n",
    "\n",
    "df['Processor'] = df.Feature.apply(lambda x : re.findall(regex, x)[0] if re.findall(regex, x) else None)"
   ]
  },
  {
   "cell_type": "code",
   "execution_count": 5,
   "id": "333ff902",
   "metadata": {},
   "outputs": [],
   "source": [
    "# RAM Info\n",
    "\n",
    "regex = r'(\\d+) ?(?:GB|TB)'\n",
    "\n",
    "df['RAM'] = df['Feature'].apply(lambda x : re.findall(regex, x)[0])"
   ]
  },
  {
   "cell_type": "code",
   "execution_count": 6,
   "id": "bb215b50",
   "metadata": {},
   "outputs": [],
   "source": [
    "# SSD\n",
    "\n",
    "regex = r'[\\d]+\\s(?:GB|TB)\\s(?:SSD)'\n",
    "\n",
    "df['SSD'] = df['Feature'].apply(lambda x : re.findall(regex, x)[0] if re.findall(regex, x) else 'No SSD')"
   ]
  },
  {
   "cell_type": "code",
   "execution_count": 7,
   "id": "0bc93dfe",
   "metadata": {},
   "outputs": [],
   "source": [
    "# OS Info\n",
    "\n",
    "regex = r'(Windows (?:10|11)|Mac OS|Linux|DOS|Chrome)[\\s\\w]*Operating System'\n",
    "\n",
    "df['OS'] = df['Feature'].apply(lambda x : re.findall(regex, x)[0] if re.findall(regex, x) else None)"
   ]
  },
  {
   "cell_type": "code",
   "execution_count": 8,
   "id": "c13307f2",
   "metadata": {},
   "outputs": [],
   "source": [
    "# Brand Info\n",
    "\n",
    "regex = r'^\\w+'\n",
    "\n",
    "df['Brand'] = df['Product'].apply(lambda x : re.findall(regex, x)[0] if re.findall(regex, x) else None)"
   ]
  },
  {
   "cell_type": "code",
   "execution_count": 9,
   "id": "2c022ca4",
   "metadata": {},
   "outputs": [],
   "source": [
    "# Ram Type\n",
    "\n",
    "regex = r'LPDDR3|LPDDR4X|DDR4|DDR5|RAMMac'\n",
    "\n",
    "df['RamType'] = df['Feature'].apply(lambda x: re.findall(regex, x)[0] if re.findall(regex, x) else None)"
   ]
  },
  {
   "cell_type": "code",
   "execution_count": 10,
   "id": "5d0a2ba6",
   "metadata": {},
   "outputs": [],
   "source": [
    "# Display Size\n",
    "\n",
    "regex = r'[0-9.]+\\s+(?:cm)'\n",
    "\n",
    "df['Display'] = df['Feature'].apply(lambda x: re.findall(regex, x)[0] if re.findall(regex, x) else None)"
   ]
  },
  {
   "cell_type": "code",
   "execution_count": 11,
   "id": "a1759a82",
   "metadata": {},
   "outputs": [],
   "source": [
    "# HDD\n",
    "\n",
    "regex = r'[\\d]+\\s(?:GB|TB)\\s(?:HDD)'\n",
    "\n",
    "df['HDD'] = df['Feature'].apply(lambda x : re.findall(regex, x)[0] if re.findall(regex, x) else 'No HDD')"
   ]
  },
  {
   "cell_type": "code",
   "execution_count": 12,
   "id": "4120a0d5",
   "metadata": {},
   "outputs": [],
   "source": [
    "df.MRP = df.MRP.apply(lambda x : x.replace('₹', '').replace(',', '')).astype(float)"
   ]
  },
  {
   "cell_type": "code",
   "execution_count": 13,
   "id": "5ee844b9",
   "metadata": {},
   "outputs": [],
   "source": [
    "df = df.drop(columns = ['Rating', 'Product', 'Feature'])"
   ]
  },
  {
   "cell_type": "code",
   "execution_count": 14,
   "id": "85d514fc",
   "metadata": {},
   "outputs": [
    {
     "data": {
      "text/html": [
       "<div>\n",
       "<style scoped>\n",
       "    .dataframe tbody tr th:only-of-type {\n",
       "        vertical-align: middle;\n",
       "    }\n",
       "\n",
       "    .dataframe tbody tr th {\n",
       "        vertical-align: top;\n",
       "    }\n",
       "\n",
       "    .dataframe thead th {\n",
       "        text-align: right;\n",
       "    }\n",
       "</style>\n",
       "<table border=\"1\" class=\"dataframe\">\n",
       "  <thead>\n",
       "    <tr style=\"text-align: right;\">\n",
       "      <th></th>\n",
       "      <th>MRP</th>\n",
       "      <th>Processor</th>\n",
       "      <th>RAM</th>\n",
       "      <th>SSD</th>\n",
       "      <th>OS</th>\n",
       "      <th>Brand</th>\n",
       "      <th>RamType</th>\n",
       "      <th>Display</th>\n",
       "      <th>HDD</th>\n",
       "    </tr>\n",
       "  </thead>\n",
       "  <tbody>\n",
       "    <tr>\n",
       "      <th>0</th>\n",
       "      <td>36990.0</td>\n",
       "      <td>Intel Core i3 Processor</td>\n",
       "      <td>8</td>\n",
       "      <td>256 GB SSD</td>\n",
       "      <td>Windows 11</td>\n",
       "      <td>Lenovo</td>\n",
       "      <td>DDR4</td>\n",
       "      <td>35.56 cm</td>\n",
       "      <td>No HDD</td>\n",
       "    </tr>\n",
       "    <tr>\n",
       "      <th>1</th>\n",
       "      <td>39990.0</td>\n",
       "      <td>Intel Core i3 Processor</td>\n",
       "      <td>8</td>\n",
       "      <td>512 GB SSD</td>\n",
       "      <td>Windows 11</td>\n",
       "      <td>Lenovo</td>\n",
       "      <td>DDR4</td>\n",
       "      <td>39.62 cm</td>\n",
       "      <td>No HDD</td>\n",
       "    </tr>\n",
       "    <tr>\n",
       "      <th>2</th>\n",
       "      <td>32990.0</td>\n",
       "      <td>Intel Core i3 Processor</td>\n",
       "      <td>8</td>\n",
       "      <td>512 GB SSD</td>\n",
       "      <td>Windows 11</td>\n",
       "      <td>ASUS</td>\n",
       "      <td>DDR4</td>\n",
       "      <td>39.62 cm</td>\n",
       "      <td>No HDD</td>\n",
       "    </tr>\n",
       "    <tr>\n",
       "      <th>3</th>\n",
       "      <td>49990.0</td>\n",
       "      <td>AMD Ryzen 5 Hexa Core Processor</td>\n",
       "      <td>8</td>\n",
       "      <td>512 GB SSD</td>\n",
       "      <td>Windows 10</td>\n",
       "      <td>HP</td>\n",
       "      <td>DDR4</td>\n",
       "      <td>39.62 cm</td>\n",
       "      <td>No HDD</td>\n",
       "    </tr>\n",
       "    <tr>\n",
       "      <th>4</th>\n",
       "      <td>49990.0</td>\n",
       "      <td>Intel Core i5 Processor</td>\n",
       "      <td>8</td>\n",
       "      <td>512 GB SSD</td>\n",
       "      <td>Windows 11</td>\n",
       "      <td>ASUS</td>\n",
       "      <td>DDR4</td>\n",
       "      <td>39.62 cm</td>\n",
       "      <td>No HDD</td>\n",
       "    </tr>\n",
       "  </tbody>\n",
       "</table>\n",
       "</div>"
      ],
      "text/plain": [
       "       MRP                        Processor RAM         SSD          OS  \\\n",
       "0  36990.0          Intel Core i3 Processor   8  256 GB SSD  Windows 11   \n",
       "1  39990.0          Intel Core i3 Processor   8  512 GB SSD  Windows 11   \n",
       "2  32990.0          Intel Core i3 Processor   8  512 GB SSD  Windows 11   \n",
       "3  49990.0  AMD Ryzen 5 Hexa Core Processor   8  512 GB SSD  Windows 10   \n",
       "4  49990.0          Intel Core i5 Processor   8  512 GB SSD  Windows 11   \n",
       "\n",
       "    Brand RamType   Display     HDD  \n",
       "0  Lenovo    DDR4  35.56 cm  No HDD  \n",
       "1  Lenovo    DDR4  39.62 cm  No HDD  \n",
       "2    ASUS    DDR4  39.62 cm  No HDD  \n",
       "3      HP    DDR4  39.62 cm  No HDD  \n",
       "4    ASUS    DDR4  39.62 cm  No HDD  "
      ]
     },
     "execution_count": 14,
     "metadata": {},
     "output_type": "execute_result"
    }
   ],
   "source": [
    "df.head()"
   ]
  },
  {
   "cell_type": "code",
   "execution_count": 15,
   "id": "a15a2d3b",
   "metadata": {},
   "outputs": [],
   "source": [
    "df.SSD = df.SSD.apply(lambda x : x.replace('1 TB SSD', '1024 GB SSD').replace('2 TB SSD', '2048 GB SSD').replace('No SSD', '0 GB SSD'))\n",
    "df.SSD = df.SSD.apply(lambda x : x.replace('GB SSD', '')).astype(int)"
   ]
  },
  {
   "cell_type": "code",
   "execution_count": 16,
   "id": "fb135e73",
   "metadata": {},
   "outputs": [],
   "source": [
    "df.HDD = df.HDD.apply(lambda x : x.replace('1 TB HDD', '1024 GB HDD').replace('No HDD', '0 GB HDD'))\n",
    "df.HDD = df.HDD.apply(lambda x : x.replace('GB HDD', '')).astype(int)"
   ]
  },
  {
   "cell_type": "code",
   "execution_count": 17,
   "id": "20646a2b",
   "metadata": {},
   "outputs": [
    {
     "data": {
      "text/html": [
       "<div>\n",
       "<style scoped>\n",
       "    .dataframe tbody tr th:only-of-type {\n",
       "        vertical-align: middle;\n",
       "    }\n",
       "\n",
       "    .dataframe tbody tr th {\n",
       "        vertical-align: top;\n",
       "    }\n",
       "\n",
       "    .dataframe thead th {\n",
       "        text-align: right;\n",
       "    }\n",
       "</style>\n",
       "<table border=\"1\" class=\"dataframe\">\n",
       "  <thead>\n",
       "    <tr style=\"text-align: right;\">\n",
       "      <th></th>\n",
       "      <th>MRP</th>\n",
       "      <th>Processor</th>\n",
       "      <th>RAM</th>\n",
       "      <th>SSD</th>\n",
       "      <th>OS</th>\n",
       "      <th>Brand</th>\n",
       "      <th>RamType</th>\n",
       "      <th>Display</th>\n",
       "      <th>HDD</th>\n",
       "    </tr>\n",
       "  </thead>\n",
       "  <tbody>\n",
       "    <tr>\n",
       "      <th>0</th>\n",
       "      <td>36990.0</td>\n",
       "      <td>Intel Core i3 Processor</td>\n",
       "      <td>8</td>\n",
       "      <td>256</td>\n",
       "      <td>Windows 11</td>\n",
       "      <td>Lenovo</td>\n",
       "      <td>DDR4</td>\n",
       "      <td>35.56 cm</td>\n",
       "      <td>0</td>\n",
       "    </tr>\n",
       "    <tr>\n",
       "      <th>1</th>\n",
       "      <td>39990.0</td>\n",
       "      <td>Intel Core i3 Processor</td>\n",
       "      <td>8</td>\n",
       "      <td>512</td>\n",
       "      <td>Windows 11</td>\n",
       "      <td>Lenovo</td>\n",
       "      <td>DDR4</td>\n",
       "      <td>39.62 cm</td>\n",
       "      <td>0</td>\n",
       "    </tr>\n",
       "    <tr>\n",
       "      <th>2</th>\n",
       "      <td>32990.0</td>\n",
       "      <td>Intel Core i3 Processor</td>\n",
       "      <td>8</td>\n",
       "      <td>512</td>\n",
       "      <td>Windows 11</td>\n",
       "      <td>ASUS</td>\n",
       "      <td>DDR4</td>\n",
       "      <td>39.62 cm</td>\n",
       "      <td>0</td>\n",
       "    </tr>\n",
       "    <tr>\n",
       "      <th>3</th>\n",
       "      <td>49990.0</td>\n",
       "      <td>AMD Ryzen 5 Hexa Core Processor</td>\n",
       "      <td>8</td>\n",
       "      <td>512</td>\n",
       "      <td>Windows 10</td>\n",
       "      <td>HP</td>\n",
       "      <td>DDR4</td>\n",
       "      <td>39.62 cm</td>\n",
       "      <td>0</td>\n",
       "    </tr>\n",
       "    <tr>\n",
       "      <th>4</th>\n",
       "      <td>49990.0</td>\n",
       "      <td>Intel Core i5 Processor</td>\n",
       "      <td>8</td>\n",
       "      <td>512</td>\n",
       "      <td>Windows 11</td>\n",
       "      <td>ASUS</td>\n",
       "      <td>DDR4</td>\n",
       "      <td>39.62 cm</td>\n",
       "      <td>0</td>\n",
       "    </tr>\n",
       "  </tbody>\n",
       "</table>\n",
       "</div>"
      ],
      "text/plain": [
       "       MRP                        Processor RAM  SSD          OS   Brand  \\\n",
       "0  36990.0          Intel Core i3 Processor   8  256  Windows 11  Lenovo   \n",
       "1  39990.0          Intel Core i3 Processor   8  512  Windows 11  Lenovo   \n",
       "2  32990.0          Intel Core i3 Processor   8  512  Windows 11    ASUS   \n",
       "3  49990.0  AMD Ryzen 5 Hexa Core Processor   8  512  Windows 10      HP   \n",
       "4  49990.0          Intel Core i5 Processor   8  512  Windows 11    ASUS   \n",
       "\n",
       "  RamType   Display  HDD  \n",
       "0    DDR4  35.56 cm    0  \n",
       "1    DDR4  39.62 cm    0  \n",
       "2    DDR4  39.62 cm    0  \n",
       "3    DDR4  39.62 cm    0  \n",
       "4    DDR4  39.62 cm    0  "
      ]
     },
     "execution_count": 17,
     "metadata": {},
     "output_type": "execute_result"
    }
   ],
   "source": [
    "df.head()"
   ]
  },
  {
   "cell_type": "code",
   "execution_count": 18,
   "id": "0c3d08a3",
   "metadata": {},
   "outputs": [
    {
     "data": {
      "text/plain": [
       "MRP          0\n",
       "Processor    1\n",
       "RAM          0\n",
       "SSD          0\n",
       "OS           0\n",
       "Brand        0\n",
       "RamType      0\n",
       "Display      0\n",
       "HDD          0\n",
       "dtype: int64"
      ]
     },
     "execution_count": 18,
     "metadata": {},
     "output_type": "execute_result"
    }
   ],
   "source": [
    "df.isnull().sum()"
   ]
  },
  {
   "cell_type": "code",
   "execution_count": 19,
   "id": "82c565d8",
   "metadata": {},
   "outputs": [
    {
     "data": {
      "text/plain": [
       "314"
      ]
     },
     "execution_count": 19,
     "metadata": {},
     "output_type": "execute_result"
    }
   ],
   "source": [
    "df.duplicated().sum()"
   ]
  },
  {
   "cell_type": "code",
   "execution_count": 20,
   "id": "b1e215b5",
   "metadata": {},
   "outputs": [],
   "source": [
    "df = df.drop_duplicates()"
   ]
  },
  {
   "cell_type": "code",
   "execution_count": 21,
   "id": "aede31f7",
   "metadata": {},
   "outputs": [
    {
     "name": "stdout",
     "output_type": "stream",
     "text": [
      "<class 'pandas.core.frame.DataFrame'>\n",
      "Int64Index: 406 entries, 0 to 719\n",
      "Data columns (total 9 columns):\n",
      " #   Column     Non-Null Count  Dtype  \n",
      "---  ------     --------------  -----  \n",
      " 0   MRP        406 non-null    float64\n",
      " 1   Processor  405 non-null    object \n",
      " 2   RAM        406 non-null    object \n",
      " 3   SSD        406 non-null    int32  \n",
      " 4   OS         406 non-null    object \n",
      " 5   Brand      406 non-null    object \n",
      " 6   RamType    406 non-null    object \n",
      " 7   Display    406 non-null    object \n",
      " 8   HDD        406 non-null    int32  \n",
      "dtypes: float64(1), int32(2), object(6)\n",
      "memory usage: 28.5+ KB\n"
     ]
    }
   ],
   "source": [
    "df.info()"
   ]
  },
  {
   "cell_type": "code",
   "execution_count": 22,
   "id": "80743c51",
   "metadata": {},
   "outputs": [
    {
     "data": {
      "text/html": [
       "<div>\n",
       "<style scoped>\n",
       "    .dataframe tbody tr th:only-of-type {\n",
       "        vertical-align: middle;\n",
       "    }\n",
       "\n",
       "    .dataframe tbody tr th {\n",
       "        vertical-align: top;\n",
       "    }\n",
       "\n",
       "    .dataframe thead th {\n",
       "        text-align: right;\n",
       "    }\n",
       "</style>\n",
       "<table border=\"1\" class=\"dataframe\">\n",
       "  <thead>\n",
       "    <tr style=\"text-align: right;\">\n",
       "      <th></th>\n",
       "      <th>MRP</th>\n",
       "      <th>Processor</th>\n",
       "      <th>RAM</th>\n",
       "      <th>SSD</th>\n",
       "      <th>OS</th>\n",
       "      <th>Brand</th>\n",
       "      <th>RamType</th>\n",
       "      <th>Display</th>\n",
       "      <th>HDD</th>\n",
       "    </tr>\n",
       "  </thead>\n",
       "  <tbody>\n",
       "    <tr>\n",
       "      <th>83</th>\n",
       "      <td>32990.0</td>\n",
       "      <td>None</td>\n",
       "      <td>4</td>\n",
       "      <td>0</td>\n",
       "      <td>Windows 11</td>\n",
       "      <td>SAMSUNG</td>\n",
       "      <td>LPDDR4X</td>\n",
       "      <td>35.56 cm</td>\n",
       "      <td>0</td>\n",
       "    </tr>\n",
       "  </tbody>\n",
       "</table>\n",
       "</div>"
      ],
      "text/plain": [
       "        MRP Processor RAM  SSD          OS    Brand  RamType   Display  HDD\n",
       "83  32990.0      None   4    0  Windows 11  SAMSUNG  LPDDR4X  35.56 cm    0"
      ]
     },
     "execution_count": 22,
     "metadata": {},
     "output_type": "execute_result"
    }
   ],
   "source": [
    "df[df.isna().any(axis = 1)]"
   ]
  },
  {
   "cell_type": "code",
   "execution_count": 23,
   "id": "017f222c",
   "metadata": {},
   "outputs": [],
   "source": [
    "df = df.dropna(how = 'any', axis = 0)"
   ]
  },
  {
   "cell_type": "code",
   "execution_count": 24,
   "id": "c5221fb7",
   "metadata": {},
   "outputs": [],
   "source": [
    "df.Processor = df.Processor.apply(lambda x : x.replace('Intel OptaneIntel Core i3 Processor', 'Intel Core i3 Processor'))"
   ]
  },
  {
   "cell_type": "code",
   "execution_count": 25,
   "id": "2548c919",
   "metadata": {},
   "outputs": [
    {
     "name": "stdout",
     "output_type": "stream",
     "text": [
      "<class 'pandas.core.frame.DataFrame'>\n",
      "Int64Index: 405 entries, 0 to 719\n",
      "Data columns (total 9 columns):\n",
      " #   Column     Non-Null Count  Dtype  \n",
      "---  ------     --------------  -----  \n",
      " 0   MRP        405 non-null    float64\n",
      " 1   Processor  405 non-null    object \n",
      " 2   RAM        405 non-null    object \n",
      " 3   SSD        405 non-null    int32  \n",
      " 4   OS         405 non-null    object \n",
      " 5   Brand      405 non-null    object \n",
      " 6   RamType    405 non-null    object \n",
      " 7   Display    405 non-null    object \n",
      " 8   HDD        405 non-null    int32  \n",
      "dtypes: float64(1), int32(2), object(6)\n",
      "memory usage: 28.5+ KB\n"
     ]
    }
   ],
   "source": [
    "df.info()"
   ]
  },
  {
   "cell_type": "code",
   "execution_count": 26,
   "id": "60088a15",
   "metadata": {},
   "outputs": [
    {
     "data": {
      "image/png": "[encoded data removed]",
      "text/plain": [
       "<Figure size 1080x576 with 1 Axes>"
      ]
     },
     "metadata": {
      "needs_background": "light"
     },
     "output_type": "display_data"
    }
   ],
   "source": [
    "plt.figure(figsize = (15, 8))\n",
    "sns.boxplot(x = df.Brand, y = df.MRP)\n",
    "plt.show()"
   ]
  },
  {
   "cell_type": "code",
   "execution_count": 27,
   "id": "b2280853",
   "metadata": {},
   "outputs": [
    {
     "data": {
      "image/png": "[encoded data removed]",
      "text/plain": [
       "<Figure size 1080x576 with 1 Axes>"
      ]
     },
     "metadata": {
      "needs_background": "light"
     },
     "output_type": "display_data"
    }
   ],
   "source": [
    "plt.figure(figsize = (15, 8))\n",
    "sns.boxplot(x = df.Processor, y = df.MRP)\n",
    "plt.xticks(rotation = 'vertical')\n",
    "plt.xlabel('Processor')\n",
    "plt.ylabel('MRP of Laptop')\n",
    "plt.title('Processor Vs MRP')\n",
    "plt.show()"
   ]
  },
  {
   "cell_type": "code",
   "execution_count": 28,
   "id": "0652f64d",
   "metadata": {},
   "outputs": [
    {
     "data": {
      "image/png": "[encoded data removed]",
      "text/plain": [
       "<Figure size 1080x576 with 1 Axes>"
      ]
     },
     "metadata": {
      "needs_background": "light"
     },
     "output_type": "display_data"
    }
   ],
   "source": [
    "plt.figure(figsize = (15, 8))\n",
    "sns.boxplot(x = df.RAM, y = df.MRP)\n",
    "plt.xlabel('RAM')\n",
    "plt.ylabel('MRP of Laptop')\n",
    "plt.title('RAM Vs MRP')\n",
    "plt.show()"
   ]
  },
  {
   "cell_type": "code",
   "execution_count": 29,
   "id": "4eeb38c8",
   "metadata": {},
   "outputs": [
    {
     "data": {
      "image/png": "[encoded data removed]",
      "text/plain": [
       "<Figure size 1080x576 with 1 Axes>"
      ]
     },
     "metadata": {
      "needs_background": "light"
     },
     "output_type": "display_data"
    }
   ],
   "source": [
    "plt.figure(figsize = (15, 8))\n",
    "sns.boxplot(x = df.OS, y = df.MRP)\n",
    "plt.xlabel('Operating System')\n",
    "plt.ylabel('MRP of Laptop')\n",
    "plt.title('OS Vs MRP')\n",
    "plt.show()"
   ]
  },
  {
   "cell_type": "markdown",
   "id": "6bc93780",
   "metadata": {},
   "source": [
    "#### There Are Outliers Present in Data But We Do Not Perform Outlier Treatment As There Is Less Data & Maybe Some Laptops Are Actually Sold For Higher Prices Or Lower Prices"
   ]
  },
  {
   "cell_type": "code",
   "execution_count": 30,
   "id": "34203044",
   "metadata": {},
   "outputs": [
    {
     "data": {
      "image/png": "[encoded data removed]",
      "text/plain": [
       "<Figure size 1080x576 with 1 Axes>"
      ]
     },
     "metadata": {
      "needs_background": "light"
     },
     "output_type": "display_data"
    }
   ],
   "source": [
    "plt.figure(figsize = (15, 8))\n",
    "df.groupby('Brand')['MRP'].mean().plot(kind = 'barh')\n",
    "plt.title('Mean Price of Laptop')\n",
    "plt.xlabel('MRP')\n",
    "plt.ylabel('Brand')\n",
    "plt.show()"
   ]
  },
  {
   "cell_type": "markdown",
   "id": "12e38058",
   "metadata": {},
   "source": [
    "#### Alienware Has The Highest Average MRP Out of All Its Competitors\n",
    "#### Ultimus Has The Lowest Average MRP Out of All Its Competitors"
   ]
  },
  {
   "cell_type": "code",
   "execution_count": 31,
   "id": "a603e5ee",
   "metadata": {},
   "outputs": [
    {
     "data": {
      "image/png": "[encoded data removed]",
      "text/plain": [
       "<Figure size 1080x576 with 1 Axes>"
      ]
     },
     "metadata": {
      "needs_background": "light"
     },
     "output_type": "display_data"
    }
   ],
   "source": [
    "plt.figure(figsize = (15, 8))\n",
    "df.groupby('Brand')['MRP'].max().plot(kind = 'barh')\n",
    "plt.title('Max Price of Laptop')\n",
    "plt.xlabel('MRP')\n",
    "plt.ylabel('Brand')\n",
    "plt.show()"
   ]
  },
  {
   "cell_type": "markdown",
   "id": "3fa42277",
   "metadata": {},
   "source": [
    "#### Dell Has Sold A Laptop At The Highest MRP Which Is Above 4 Lacs Thirty Thousand Rupees\n",
    "#### Ultimus Has Sold A Laptop At The Lowest MRP Which Is Around Twenty Thousand Rupees"
   ]
  },
  {
   "cell_type": "code",
   "execution_count": 32,
   "id": "e85abf76",
   "metadata": {},
   "outputs": [
    {
     "data": {
      "text/plain": [
       "<AxesSubplot:xlabel='Brand', ylabel='count'>"
      ]
     },
     "execution_count": 32,
     "metadata": {},
     "output_type": "execute_result"
    },
    {
     "data": {
      "image/png": "[encoded data removed]",
      "text/plain": [
       "<Figure size 1080x576 with 1 Axes>"
      ]
     },
     "metadata": {
      "needs_background": "light"
     },
     "output_type": "display_data"
    }
   ],
   "source": [
    "plt.figure(figsize = (15, 8))\n",
    "sns.countplot(x = df.Brand)"
   ]
  },
  {
   "cell_type": "code",
   "execution_count": 33,
   "id": "5bbe93a7",
   "metadata": {},
   "outputs": [
    {
     "data": {
      "text/plain": [
       "ASUS         128\n",
       "Lenovo        61\n",
       "HP            57\n",
       "DELL          56\n",
       "acer          34\n",
       "MSI           28\n",
       "Infinix       14\n",
       "APPLE         13\n",
       "realme         3\n",
       "ALIENWARE      3\n",
       "RedmiBook      2\n",
       "Ultimus        2\n",
       "Vaio           1\n",
       "GIGABYTE       1\n",
       "SAMSUNG        1\n",
       "Nokia          1\n",
       "Name: Brand, dtype: int64"
      ]
     },
     "execution_count": 33,
     "metadata": {},
     "output_type": "execute_result"
    }
   ],
   "source": [
    "df['Brand'].value_counts()"
   ]
  },
  {
   "cell_type": "markdown",
   "id": "62cfb349",
   "metadata": {},
   "source": [
    "#### Asus Has Sold The Most Units Preceded By Lenovo \n",
    "#### Vaio, GIGABYTE, Nokia & Samsung Have Sold Only 1 Unit"
   ]
  },
  {
   "cell_type": "code",
   "execution_count": 34,
   "id": "48f7ae75",
   "metadata": {},
   "outputs": [
    {
     "data": {
      "text/html": [
       "<div>\n",
       "<style scoped>\n",
       "    .dataframe tbody tr th:only-of-type {\n",
       "        vertical-align: middle;\n",
       "    }\n",
       "\n",
       "    .dataframe tbody tr th {\n",
       "        vertical-align: top;\n",
       "    }\n",
       "\n",
       "    .dataframe thead tr th {\n",
       "        text-align: left;\n",
       "    }\n",
       "\n",
       "    .dataframe thead tr:last-of-type th {\n",
       "        text-align: right;\n",
       "    }\n",
       "</style>\n",
       "<table border=\"1\" class=\"dataframe\">\n",
       "  <thead>\n",
       "    <tr>\n",
       "      <th></th>\n",
       "      <th colspan=\"3\" halign=\"left\">MRP</th>\n",
       "    </tr>\n",
       "    <tr>\n",
       "      <th></th>\n",
       "      <th>min</th>\n",
       "      <th>max</th>\n",
       "      <th>mean</th>\n",
       "    </tr>\n",
       "    <tr>\n",
       "      <th>Brand</th>\n",
       "      <th></th>\n",
       "      <th></th>\n",
       "      <th></th>\n",
       "    </tr>\n",
       "  </thead>\n",
       "  <tbody>\n",
       "    <tr>\n",
       "      <th>ALIENWARE</th>\n",
       "      <td>199990.0</td>\n",
       "      <td>345390.0</td>\n",
       "      <td>253390.000000</td>\n",
       "    </tr>\n",
       "    <tr>\n",
       "      <th>APPLE</th>\n",
       "      <td>88990.0</td>\n",
       "      <td>309490.0</td>\n",
       "      <td>165028.461538</td>\n",
       "    </tr>\n",
       "    <tr>\n",
       "      <th>ASUS</th>\n",
       "      <td>14990.0</td>\n",
       "      <td>361990.0</td>\n",
       "      <td>91117.546875</td>\n",
       "    </tr>\n",
       "    <tr>\n",
       "      <th>DELL</th>\n",
       "      <td>30428.0</td>\n",
       "      <td>434830.0</td>\n",
       "      <td>74613.232143</td>\n",
       "    </tr>\n",
       "    <tr>\n",
       "      <th>GIGABYTE</th>\n",
       "      <td>73990.0</td>\n",
       "      <td>73990.0</td>\n",
       "      <td>73990.000000</td>\n",
       "    </tr>\n",
       "    <tr>\n",
       "      <th>HP</th>\n",
       "      <td>25990.0</td>\n",
       "      <td>199990.0</td>\n",
       "      <td>65943.157895</td>\n",
       "    </tr>\n",
       "    <tr>\n",
       "      <th>Infinix</th>\n",
       "      <td>20990.0</td>\n",
       "      <td>52990.0</td>\n",
       "      <td>37347.142857</td>\n",
       "    </tr>\n",
       "    <tr>\n",
       "      <th>Lenovo</th>\n",
       "      <td>19490.0</td>\n",
       "      <td>157990.0</td>\n",
       "      <td>54489.147541</td>\n",
       "    </tr>\n",
       "    <tr>\n",
       "      <th>MSI</th>\n",
       "      <td>43990.0</td>\n",
       "      <td>389990.0</td>\n",
       "      <td>123712.107143</td>\n",
       "    </tr>\n",
       "    <tr>\n",
       "      <th>Nokia</th>\n",
       "      <td>50490.0</td>\n",
       "      <td>50490.0</td>\n",
       "      <td>50490.000000</td>\n",
       "    </tr>\n",
       "    <tr>\n",
       "      <th>RedmiBook</th>\n",
       "      <td>31990.0</td>\n",
       "      <td>39990.0</td>\n",
       "      <td>35990.000000</td>\n",
       "    </tr>\n",
       "    <tr>\n",
       "      <th>SAMSUNG</th>\n",
       "      <td>59990.0</td>\n",
       "      <td>59990.0</td>\n",
       "      <td>59990.000000</td>\n",
       "    </tr>\n",
       "    <tr>\n",
       "      <th>Ultimus</th>\n",
       "      <td>15990.0</td>\n",
       "      <td>19990.0</td>\n",
       "      <td>17990.000000</td>\n",
       "    </tr>\n",
       "    <tr>\n",
       "      <th>Vaio</th>\n",
       "      <td>40990.0</td>\n",
       "      <td>40990.0</td>\n",
       "      <td>40990.000000</td>\n",
       "    </tr>\n",
       "    <tr>\n",
       "      <th>acer</th>\n",
       "      <td>24990.0</td>\n",
       "      <td>155490.0</td>\n",
       "      <td>65000.764706</td>\n",
       "    </tr>\n",
       "    <tr>\n",
       "      <th>realme</th>\n",
       "      <td>46990.0</td>\n",
       "      <td>64999.0</td>\n",
       "      <td>57326.333333</td>\n",
       "    </tr>\n",
       "  </tbody>\n",
       "</table>\n",
       "</div>"
      ],
      "text/plain": [
       "                MRP                         \n",
       "                min       max           mean\n",
       "Brand                                       \n",
       "ALIENWARE  199990.0  345390.0  253390.000000\n",
       "APPLE       88990.0  309490.0  165028.461538\n",
       "ASUS        14990.0  361990.0   91117.546875\n",
       "DELL        30428.0  434830.0   74613.232143\n",
       "GIGABYTE    73990.0   73990.0   73990.000000\n",
       "HP          25990.0  199990.0   65943.157895\n",
       "Infinix     20990.0   52990.0   37347.142857\n",
       "Lenovo      19490.0  157990.0   54489.147541\n",
       "MSI         43990.0  389990.0  123712.107143\n",
       "Nokia       50490.0   50490.0   50490.000000\n",
       "RedmiBook   31990.0   39990.0   35990.000000\n",
       "SAMSUNG     59990.0   59990.0   59990.000000\n",
       "Ultimus     15990.0   19990.0   17990.000000\n",
       "Vaio        40990.0   40990.0   40990.000000\n",
       "acer        24990.0  155490.0   65000.764706\n",
       "realme      46990.0   64999.0   57326.333333"
      ]
     },
     "execution_count": 34,
     "metadata": {},
     "output_type": "execute_result"
    }
   ],
   "source": [
    "# Finding Max, Min & Mean MRP of Various Brands\n",
    "\n",
    "df.groupby(['Brand']).agg({'MRP' : ['min', 'max', 'mean']})"
   ]
  },
  {
   "cell_type": "code",
   "execution_count": 35,
   "id": "4bebe63b",
   "metadata": {},
   "outputs": [
    {
     "data": {
      "text/html": [
       "<div>\n",
       "<style scoped>\n",
       "    .dataframe tbody tr th:only-of-type {\n",
       "        vertical-align: middle;\n",
       "    }\n",
       "\n",
       "    .dataframe tbody tr th {\n",
       "        vertical-align: top;\n",
       "    }\n",
       "\n",
       "    .dataframe thead th {\n",
       "        text-align: right;\n",
       "    }\n",
       "</style>\n",
       "<table border=\"1\" class=\"dataframe\">\n",
       "  <thead>\n",
       "    <tr style=\"text-align: right;\">\n",
       "      <th></th>\n",
       "      <th>MRP</th>\n",
       "      <th>Processor</th>\n",
       "      <th>RAM</th>\n",
       "      <th>SSD</th>\n",
       "      <th>OS</th>\n",
       "      <th>Brand</th>\n",
       "      <th>RamType</th>\n",
       "      <th>Display</th>\n",
       "      <th>HDD</th>\n",
       "    </tr>\n",
       "  </thead>\n",
       "  <tbody>\n",
       "    <tr>\n",
       "      <th>309</th>\n",
       "      <td>69990.0</td>\n",
       "      <td>Intel Core i5 Processor</td>\n",
       "      <td>8</td>\n",
       "      <td>256</td>\n",
       "      <td>Windows 10</td>\n",
       "      <td>HP</td>\n",
       "      <td>DDR4</td>\n",
       "      <td>39.62 cm</td>\n",
       "      <td>1024</td>\n",
       "    </tr>\n",
       "    <tr>\n",
       "      <th>214</th>\n",
       "      <td>67990.0</td>\n",
       "      <td>AMD Ryzen 7 Octa Core Processor</td>\n",
       "      <td>16</td>\n",
       "      <td>512</td>\n",
       "      <td>Windows 11</td>\n",
       "      <td>ASUS</td>\n",
       "      <td>DDR4</td>\n",
       "      <td>39.62 cm</td>\n",
       "      <td>0</td>\n",
       "    </tr>\n",
       "    <tr>\n",
       "      <th>34</th>\n",
       "      <td>73990.0</td>\n",
       "      <td>AMD Ryzen 7 Octa Core Processor</td>\n",
       "      <td>8</td>\n",
       "      <td>512</td>\n",
       "      <td>Windows 11</td>\n",
       "      <td>ASUS</td>\n",
       "      <td>DDR4</td>\n",
       "      <td>43.94 cm</td>\n",
       "      <td>0</td>\n",
       "    </tr>\n",
       "    <tr>\n",
       "      <th>669</th>\n",
       "      <td>65990.0</td>\n",
       "      <td>Intel Core i5 Processor</td>\n",
       "      <td>8</td>\n",
       "      <td>512</td>\n",
       "      <td>Windows 10</td>\n",
       "      <td>ASUS</td>\n",
       "      <td>DDR4</td>\n",
       "      <td>39.62 cm</td>\n",
       "      <td>0</td>\n",
       "    </tr>\n",
       "    <tr>\n",
       "      <th>352</th>\n",
       "      <td>200000.0</td>\n",
       "      <td>Intel Core i7 Processor</td>\n",
       "      <td>16</td>\n",
       "      <td>1024</td>\n",
       "      <td>Windows 11</td>\n",
       "      <td>MSI</td>\n",
       "      <td>DDR5</td>\n",
       "      <td>39.62 cm</td>\n",
       "      <td>0</td>\n",
       "    </tr>\n",
       "  </tbody>\n",
       "</table>\n",
       "</div>"
      ],
      "text/plain": [
       "          MRP                        Processor RAM   SSD          OS Brand  \\\n",
       "309   69990.0          Intel Core i5 Processor   8   256  Windows 10    HP   \n",
       "214   67990.0  AMD Ryzen 7 Octa Core Processor  16   512  Windows 11  ASUS   \n",
       "34    73990.0  AMD Ryzen 7 Octa Core Processor   8   512  Windows 11  ASUS   \n",
       "669   65990.0          Intel Core i5 Processor   8   512  Windows 10  ASUS   \n",
       "352  200000.0          Intel Core i7 Processor  16  1024  Windows 11   MSI   \n",
       "\n",
       "    RamType   Display   HDD  \n",
       "309    DDR4  39.62 cm  1024  \n",
       "214    DDR4  39.62 cm     0  \n",
       "34     DDR4  43.94 cm     0  \n",
       "669    DDR4  39.62 cm     0  \n",
       "352    DDR5  39.62 cm     0  "
      ]
     },
     "execution_count": 35,
     "metadata": {},
     "output_type": "execute_result"
    }
   ],
   "source": [
    "df.sample(5)"
   ]
  },
  {
   "cell_type": "code",
   "execution_count": 36,
   "id": "d333d285",
   "metadata": {},
   "outputs": [],
   "source": [
    "df['Display'] = df['Display'].apply(lambda x: x.replace('cm', ''))"
   ]
  },
  {
   "cell_type": "code",
   "execution_count": 37,
   "id": "be755ad2",
   "metadata": {},
   "outputs": [
    {
     "data": {
      "text/plain": [
       "0      35.56 \n",
       "1      39.62 \n",
       "2      39.62 \n",
       "3      39.62 \n",
       "4      39.62 \n",
       "        ...  \n",
       "713    33.78 \n",
       "714    39.62 \n",
       "715    29.46 \n",
       "718    35.56 \n",
       "719    39.62 \n",
       "Name: Display, Length: 405, dtype: object"
      ]
     },
     "execution_count": 37,
     "metadata": {},
     "output_type": "execute_result"
    }
   ],
   "source": [
    "df['Display']"
   ]
  },
  {
   "cell_type": "code",
   "execution_count": 38,
   "id": "2c304186",
   "metadata": {},
   "outputs": [
    {
     "data": {
      "text/html": [
       "<div>\n",
       "<style scoped>\n",
       "    .dataframe tbody tr th:only-of-type {\n",
       "        vertical-align: middle;\n",
       "    }\n",
       "\n",
       "    .dataframe tbody tr th {\n",
       "        vertical-align: top;\n",
       "    }\n",
       "\n",
       "    .dataframe thead th {\n",
       "        text-align: right;\n",
       "    }\n",
       "</style>\n",
       "<table border=\"1\" class=\"dataframe\">\n",
       "  <thead>\n",
       "    <tr style=\"text-align: right;\">\n",
       "      <th></th>\n",
       "      <th>MRP</th>\n",
       "      <th>Processor</th>\n",
       "      <th>RAM</th>\n",
       "      <th>SSD</th>\n",
       "      <th>OS</th>\n",
       "      <th>Brand</th>\n",
       "      <th>RamType</th>\n",
       "      <th>Display</th>\n",
       "      <th>HDD</th>\n",
       "    </tr>\n",
       "  </thead>\n",
       "  <tbody>\n",
       "    <tr>\n",
       "      <th>0</th>\n",
       "      <td>36990.0</td>\n",
       "      <td>Intel Core i3 Processor</td>\n",
       "      <td>8</td>\n",
       "      <td>256</td>\n",
       "      <td>Windows 11</td>\n",
       "      <td>Lenovo</td>\n",
       "      <td>DDR4</td>\n",
       "      <td>35.56</td>\n",
       "      <td>0</td>\n",
       "    </tr>\n",
       "    <tr>\n",
       "      <th>1</th>\n",
       "      <td>39990.0</td>\n",
       "      <td>Intel Core i3 Processor</td>\n",
       "      <td>8</td>\n",
       "      <td>512</td>\n",
       "      <td>Windows 11</td>\n",
       "      <td>Lenovo</td>\n",
       "      <td>DDR4</td>\n",
       "      <td>39.62</td>\n",
       "      <td>0</td>\n",
       "    </tr>\n",
       "    <tr>\n",
       "      <th>2</th>\n",
       "      <td>32990.0</td>\n",
       "      <td>Intel Core i3 Processor</td>\n",
       "      <td>8</td>\n",
       "      <td>512</td>\n",
       "      <td>Windows 11</td>\n",
       "      <td>ASUS</td>\n",
       "      <td>DDR4</td>\n",
       "      <td>39.62</td>\n",
       "      <td>0</td>\n",
       "    </tr>\n",
       "    <tr>\n",
       "      <th>3</th>\n",
       "      <td>49990.0</td>\n",
       "      <td>AMD Ryzen 5 Hexa Core Processor</td>\n",
       "      <td>8</td>\n",
       "      <td>512</td>\n",
       "      <td>Windows 10</td>\n",
       "      <td>HP</td>\n",
       "      <td>DDR4</td>\n",
       "      <td>39.62</td>\n",
       "      <td>0</td>\n",
       "    </tr>\n",
       "    <tr>\n",
       "      <th>4</th>\n",
       "      <td>49990.0</td>\n",
       "      <td>Intel Core i5 Processor</td>\n",
       "      <td>8</td>\n",
       "      <td>512</td>\n",
       "      <td>Windows 11</td>\n",
       "      <td>ASUS</td>\n",
       "      <td>DDR4</td>\n",
       "      <td>39.62</td>\n",
       "      <td>0</td>\n",
       "    </tr>\n",
       "  </tbody>\n",
       "</table>\n",
       "</div>"
      ],
      "text/plain": [
       "       MRP                        Processor RAM  SSD          OS   Brand  \\\n",
       "0  36990.0          Intel Core i3 Processor   8  256  Windows 11  Lenovo   \n",
       "1  39990.0          Intel Core i3 Processor   8  512  Windows 11  Lenovo   \n",
       "2  32990.0          Intel Core i3 Processor   8  512  Windows 11    ASUS   \n",
       "3  49990.0  AMD Ryzen 5 Hexa Core Processor   8  512  Windows 10      HP   \n",
       "4  49990.0          Intel Core i5 Processor   8  512  Windows 11    ASUS   \n",
       "\n",
       "  RamType Display  HDD  \n",
       "0    DDR4  35.56     0  \n",
       "1    DDR4  39.62     0  \n",
       "2    DDR4  39.62     0  \n",
       "3    DDR4  39.62     0  \n",
       "4    DDR4  39.62     0  "
      ]
     },
     "execution_count": 38,
     "metadata": {},
     "output_type": "execute_result"
    }
   ],
   "source": [
    "df.head()"
   ]
  },
  {
   "cell_type": "code",
   "execution_count": 39,
   "id": "f2424112",
   "metadata": {},
   "outputs": [],
   "source": [
    "df.to_csv('cleaned.csv', index = False)"
   ]
  }
 ],
 "metadata": {
  "kernelspec": {
   "display_name": "Python 3",
   "language": "python",
   "name": "python3"
  },
  "language_info": {
   "codemirror_mode": {
    "name": "ipython",
    "version": 3
   },
   "file_extension": ".py",
   "mimetype": "text/x-python",
   "name": "python",
   "nbconvert_exporter": "python",
   "pygments_lexer": "ipython3",
   "version": "3.8.8"
  }
 },
 "nbformat": 4,
 "nbformat_minor": 5
}
